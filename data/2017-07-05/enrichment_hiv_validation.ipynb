{
 "cells": [
  {
   "cell_type": "code",
   "execution_count": 2,
   "metadata": {},
   "outputs": [],
   "source": [
    "# %load ../../scripts/fold_enrichment.py\n",
    "import pandas as pd\n",
    "import numpy as np\n",
    "import argparse\n",
    "from collections import defaultdict\n",
    "from scipy.stats import linregress"
   ]
  },
  {
   "cell_type": "code",
   "execution_count": 4,
   "metadata": {},
   "outputs": [],
   "source": [
    "#####   Parse Input   #####\n",
    "# args = argparse.ArgumentParser()\n",
    "# args.add_argument('-input', type=str, default='../data/2017-09-28/proportions.csv',\n",
    "#                     help='Path to input oligo proportions')\n",
    "# args.add_argument('-out_path', type=str, default='../data/2017-09-28/')\n",
    "# args.add_argument('-samples', type=str, default='../data/2017-09-28/samples.tsv',\n",
    "#                     help='Tab-delimited file of sampleID    seraID, e.g.: NHP-1    ZIKV')\n",
    "# args.add_argument('-drop', type=str, default='../data/2017-09-28/drop.txt',\n",
    "#                     help='Text file with which samples to drop, one sample per line.')\n",
    "# args.add_argument('--aggregate_technical', type=bool, default=True,\n",
    "#                     help='Aggregate by technical replicates? Default True')\n",
    "# args.add_argument('--aggregate_biological', type=bool, default=False,\n",
    "#                     help='Aggregate by biological replicate? Default False')\n",
    "# args.add_argument('-control_col', type=str, default='beads',\n",
    "#                     help='Column name to use as baseline when calculating fold enrichment')\n",
    "# args = args.parse_args()\n",
    "\n",
    "out_path = './'\n",
    "drop_samples = [line.strip() for line in open('./drop.tsv', 'r')]  #[ 'NHP-3-1', 'NHP-3-2']\n",
    "control_col = 'input'\n",
    "\n",
    "# pd.DataFrame(index=oligoID, columns=sampleID, values=proportions of reads in each column assigned to each oligo)\n",
    "proportions = pd.read_csv('./proportions.csv', index_col=0)\n",
    "# drop bad replicates or superfluous samples as specified\n",
    "proportions.drop(drop_samples, inplace=True, axis=1, errors='ignore')\n",
    "\n",
    "# all columns with 'input' in the name\n",
    "input_cols = [c for c in proportions.columns.values if 'input' in c.lower()]\n",
    "# all columns with 'beads' in the name\n",
    "beads_cols = [c for c in proportions.columns.values if 'beads' in c.lower()]\n",
    "\n",
    "# nonnumerical columns\n",
    "metadata_cols = ['virus', 'start', 'end', 'sequence', 'start', 'end', 'strains']\n",
    "metadata = proportions[metadata_cols]\n",
    "\n",
    "# all non-metadata columns\n",
    "proportions = proportions[[c for c in proportions.columns.values if c not in metadata_cols]]"
   ]
  },
  {
   "cell_type": "code",
   "execution_count": 6,
   "metadata": {},
   "outputs": [],
   "source": [
    "#####   Aggregate replicates    #####\n",
    "def aggregate(df, reps, name):\n",
    "    if len(reps) == 1:\n",
    "        df[name] = df[reps[0]]\n",
    "    else:\n",
    "        df[name] = df[reps].mean(axis=1) # mean of each row --> new column of aggregated values\n",
    "    df.drop(reps, inplace=True, axis=1, errors='ignore') # drop original columns (yes, the axis designator switches between these two methods which is incredibly annoying but is correct I promise)\n",
    "\n",
    "technical_replicates = defaultdict(list)\n",
    "# {'NHP-3-2ng': ['NHP-3-2ng-1', 'NHP-3-2ng-2']}\n",
    "\n",
    "for serum in proportions.columns.values: # Find replicates like ['NHP-3-1', 'NHP-3-2']\n",
    "    if serum in beads_cols:\n",
    "        name = 'beads'\n",
    "    elif serum in input_cols:\n",
    "        name = 'input'\n",
    "    else:\n",
    "        name = serum.rsplit('_', 1)[0]\n",
    "    technical_replicates[name].append(serum)\n",
    "\n",
    "for serum, reps in technical_replicates.items():\n",
    "    aggregate(proportions, reps, serum)\n",
    "# now data looks like pd.DataFrame(columns=['NHP-1', 'input', 'beads', 'NHP-2', ...])"
   ]
  },
  {
   "cell_type": "code",
   "execution_count": 8,
   "metadata": {},
   "outputs": [],
   "source": [
    "#####   Convert all values to fold enrichment over control  #####\n",
    "def fold_enrichment(row):\n",
    "    ctrl = row[control_col]\n",
    "    def enrichment_value(i):\n",
    "        if ctrl == 0.:\n",
    "            ctrl = proportions[control_col].mean() # for the rare 0 values in the control, plug in the mean control value\n",
    "        return float(i) / float(ctrl)\n",
    "    return row.map(enrichment_value)\n",
    "\n",
    "mean_control_val = proportions[control_col].mean() # avoid dividing by 0\n",
    "filled_control_col = proportions[control_col].replace(0., mean_control_val)\n",
    "enrichment = proportions.divide(filled_control_col, axis=0)\n",
    "\n",
    "annotated_enrichment = enrichment.join(metadata) # reattach the metadata\n",
    "annotated_enrichment.to_csv(out_path+'enrichment.csv') # write to file"
   ]
  },
  {
   "cell_type": "code",
   "execution_count": null,
   "metadata": {},
   "outputs": [],
   "source": []
  }
 ],
 "metadata": {
  "kernelspec": {
   "display_name": "Python 2",
   "language": "python",
   "name": "python2"
  },
  "language_info": {
   "codemirror_mode": {
    "name": "ipython",
    "version": 2
   },
   "file_extension": ".py",
   "mimetype": "text/x-python",
   "name": "python",
   "nbconvert_exporter": "python",
   "pygments_lexer": "ipython2",
   "version": "2.7.10"
  }
 },
 "nbformat": 4,
 "nbformat_minor": 2
}
