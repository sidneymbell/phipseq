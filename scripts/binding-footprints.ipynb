{
 "cells": [
  {
   "cell_type": "code",
   "execution_count": 4,
   "metadata": {
    "collapsed": true
   },
   "outputs": [],
   "source": [
    "import pandas as pd\n",
    "import numpy as np\n",
    "import seaborn as sns\n",
    "from matplotlib import pyplot as plt\n",
    "%matplotlib inline\n",
    "from collections import defaultdict\n",
    "from pprint import pprint\n",
    "from Bio import SeqIO\n",
    "from Bio import Entrez"
   ]
  },
  {
   "cell_type": "code",
   "execution_count": 5,
   "metadata": {
    "collapsed": false
   },
   "outputs": [],
   "source": [
    "read_counts = pd.read_csv('../data/tidy_read_proportions.csv', index_col=0)\n",
    "\n",
    "HIV_map = {\n",
    "    'HIV_GAG': 790,\n",
    "    'HIV_POL': 2085,\n",
    "    'HIV_ENV': 6225,\n",
    "    'HIV_REV': 5970,\n",
    "    'HIV_NEF': 8797,\n",
    "    'HIV_VPU': 6062,\n",
    "    'HIV_VPR': 5559,\n",
    "    'HIV_VIF': 5041, \n",
    "    'HIV_TAT': 5831,\n",
    "}\n",
    "\n",
    "def pivot_sites_sera(oligo_read_counts):\n",
    "    \n",
    "    oligos = oligo_read_counts.to_dict(orient=\"index\").values() # { 'start': 1, 'end': 30, 'sera1':counts1, 'sera2':counts2,...}\n",
    "    sites = []\n",
    "    \n",
    "    for oligo in oligos: \n",
    "        if 'HIV' in oligo['virus']:\n",
    "            oligo['start'] += HIV_map[oligo['virus']]\n",
    "            oligo['end'] += HIV_map[oligo['virus']]\n",
    "            oligo['virus'] = 'HIV'\n",
    "            \n",
    "        start, end = oligo.pop('start'), oligo.pop('end')\n",
    "        for site in range(start, end):\n",
    "            site_record = oligo.copy()\n",
    "            site_record['site'] = site\n",
    "            sites.append(site_record) # { 'site': 0, 'sera1': counts1, 'sera2': counts2, ...}\n",
    "        \n",
    "    records = []\n",
    "    for site in sites: \n",
    "        del site['Peptide_sequence']\n",
    "        sera = [s for s in site.keys() if s not in ['site', 'virus', 'strains']]\n",
    "        \n",
    "        for s in sera:\n",
    "            sera_site_record = { \n",
    "                'virus': site['virus'],\n",
    "                'strains': site['strains'],\n",
    "                'serum': s,\n",
    "                'counts': site[s],\n",
    "                'site': site['site']\n",
    "                }\n",
    "            records.append(sera_site_record)\n",
    "            \n",
    "    return pd.DataFrame(records, columns=['site', 'virus', 'strains', 'serum', 'counts'])\n",
    "\n",
    "\n",
    "tidy_counts = pivot_sites_sera(read_counts)\n"
   ]
  },
  {
   "cell_type": "code",
   "execution_count": null,
   "metadata": {
    "collapsed": false
   },
   "outputs": [],
   "source": [
    "all_viruses = set(tidy_counts['virus'].values)\n",
    "all_sera = set(tidy_counts['serum'].values)\n",
    "print all_viruses\n",
    "sns.set_style(style='whitegrid', rc={'palette':'pastel', 'font_scale':1.2})\n",
    "\n",
    "fig, axes = plt.subplots(ncols=1, nrows=len(all_viruses), figsize=(15, 3*len(all_viruses)))\n",
    "for virus, ax in zip(all_viruses, axes):\n",
    "    for serum in all_sera:\n",
    "        serum_counts = tidy_counts.loc[(tidy_counts['serum'] == serum) \n",
    "                                       & (tidy_counts['virus'] == virus)]\n",
    "        sns.barplot(x='site', y='counts', data=serum_counts, saturation=0.3)\n",
    "    ax.set_title(virus)\n",
    "    ax.set_xlabel('Genomic Position')\n",
    "    ax.set_ylabel('Proportion of Reads')\n",
    "\n",
    "    "
   ]
  },
  {
   "cell_type": "code",
   "execution_count": null,
   "metadata": {
    "collapsed": false
   },
   "outputs": [],
   "source": [
    "''' WIP: eventually add pretty genome maps to the bottom of each virus read plot'''\n",
    "\n",
    "# ### Parse Reference Accession Numbers from Docs\n",
    "\n",
    "# reference_df = pd.read_csv('../docs/library_contents_tidy.csv', header=0)\n",
    "# reference_df.dropna(how='any', inplace=True)\n",
    "\n",
    "# reference_accessions = defaultdict(list)\n",
    "# for idx, row in reference_df.iterrows():\n",
    "#     reference_accessions[row['virus']]+=(row['accession'].split(', '))\n",
    "# viruses = reference_accessions.keys()\n",
    "\n",
    "# ### Download reference files from accessions\n",
    "# def fetch_reference_records(accessions):\n",
    "#     handle = Entrez.esearch(db=\"nuccore\", term=\" \".join(accessions))    # retrieve xml of search results\n",
    "#     giList = Entrez.read(handle)['IdList'] # pull GI numbers from handle\n",
    "\n",
    "#     # post NCBI query\n",
    "#     try:\n",
    "#         search_handle = Entrez.epost(db=\"nuccore\", id=\",\".join(giList))\n",
    "#         search_results = Entrez.read(search_handle)\n",
    "#         webenv, query_key = search_results[\"WebEnv\"], search_results[\"QueryKey\"]\n",
    "#         gb_files = Entrez.efetch(db=\"nuccore\", rettype=\"gb\", webenv=webenv, query_key=query_key)\n",
    "#         seqs = [i for i in SeqIO.parse(gb_files, 'genbank')]\n",
    "        \n",
    "#     except RuntimeError:\n",
    "#         print(\"ERROR: Couldn't connect with entrez, please run again\")\n",
    "#         print(\"Accessions:\", accessions)\n",
    "#         print(\"GIs:\", giList)\n",
    "#         return []\n",
    "#     return seqs\n",
    "\n",
    "# references = { virus: fetch_reference_records( reference_accessions[virus]) for virus in viruses}\n",
    "# print {k: len(v) for k,v in references.items()}"
   ]
  },
  {
   "cell_type": "code",
   "execution_count": 3,
   "metadata": {
    "collapsed": false
   },
   "outputs": [],
   "source": [
    "# def parse_ref_map(reference):\n",
    "#     ''' Parse gene locations from genbank reference files '''\n",
    "#     gene_map = {}\n",
    "\n",
    "#     for feature in reference.features:\n",
    "#         try:\n",
    "#             gene = feature.qualifiers['product'][0]\n",
    "#             if gene != 'polyprotein':\n",
    "#                 gene_map[gene] = (int(feature.location.start), int(feature.location.end))\n",
    "#         except:\n",
    "#             continue\n",
    "#     return gene_map\n",
    "    \n",
    "# reference_maps = {virus: parse_ref_map(refs[0]) for virus, refs in references.items() if len(refs)}"
   ]
  },
  {
   "cell_type": "code",
   "execution_count": null,
   "metadata": {
    "collapsed": true
   },
   "outputs": [],
   "source": []
  },
  {
   "cell_type": "code",
   "execution_count": null,
   "metadata": {
    "collapsed": true
   },
   "outputs": [],
   "source": []
  },
  {
   "cell_type": "code",
   "execution_count": null,
   "metadata": {
    "collapsed": true
   },
   "outputs": [],
   "source": []
  },
  {
   "cell_type": "code",
   "execution_count": null,
   "metadata": {
    "collapsed": true
   },
   "outputs": [],
   "source": []
  },
  {
   "cell_type": "code",
   "execution_count": null,
   "metadata": {
    "collapsed": true
   },
   "outputs": [],
   "source": []
  },
  {
   "cell_type": "code",
   "execution_count": null,
   "metadata": {
    "collapsed": true
   },
   "outputs": [],
   "source": []
  }
 ],
 "metadata": {
  "kernelspec": {
   "display_name": "Python 2",
   "language": "python",
   "name": "python2"
  },
  "language_info": {
   "codemirror_mode": {
    "name": "ipython",
    "version": 2
   },
   "file_extension": ".py",
   "mimetype": "text/x-python",
   "name": "python",
   "nbconvert_exporter": "python",
   "pygments_lexer": "ipython2",
   "version": "2.7.10"
  }
 },
 "nbformat": 4,
 "nbformat_minor": 2
}
