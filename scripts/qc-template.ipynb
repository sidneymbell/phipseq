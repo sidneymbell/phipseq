{
 "cells": [
  {
   "cell_type": "code",
   "execution_count": null,
   "metadata": {
    "scrolled": true
   },
   "outputs": [],
   "source": [
    "import pandas as pd\n",
    "import numpy as np\n",
    "import seaborn as sns\n",
    "from matplotlib import pyplot as plt\n",
    "import argparse\n",
    "from scipy.stats import linregress\n",
    "from collections import defaultdict"
   ]
  },
  {
   "cell_type": "code",
   "execution_count": null,
   "metadata": {
    "scrolled": true
   },
   "outputs": [],
   "source": [
    "######### Input ########\n",
    "\n",
    "## Read in data; use the ID to index individual oligos\n",
    "counts = pd.read_excel('./2018.03.23.annotatedCounts.xlsx', index_col=0)\n",
    "out_path = './'\n",
    "\n",
    "drop_columns = [] # put any columns to drop here (e.g., other peoples' samples)\n",
    "counts.drop(drop_columns, axis=1, inplace=True)\n",
    "\n",
    "# We know these animals were previously vaccinated with HIV antigen; drop those oligos\n",
    "hiv_oligos = counts.loc[counts['Virus_Strain'].str.contains('HIV')]\n",
    "counts.drop(hiv_oligos.index.values, axis=0, inplace=True)"
   ]
  },
  {
   "cell_type": "code",
   "execution_count": null,
   "metadata": {
    "scrolled": true
   },
   "outputs": [],
   "source": [
    "#########  Initial cleanup & normalization #########\n",
    "\n",
    "# For convenience, separate out the metadata, input counts, background counts and metadata.\n",
    "def proportions(df):\n",
    "    ''' For each column, divide each element by the sum of the column (column sums to 1)'''\n",
    "    xsum=df.sum(0)\n",
    "    df = df.div(xsum, axis='columns')\n",
    "    return df\n",
    "\n",
    "input_cols = [ c for c in counts.columns.values if 'input' in c.lower() ]\n",
    "beads_cols = [ c for c in counts.columns.values if 'beads' in c.lower() ]\n",
    "metadata_cols = ['Virus_Strain', 'Start_to_End_nt', 'Peptide_sequence']\n",
    "sample_cols = [c for c in counts if not any([c in input_cols, c in beads_cols, c in metadata_cols])]\n",
    "\n",
    "metadata = counts[metadata_cols]\n",
    "# Standardize each column to sum to 1\n",
    "values = proportions(counts[[c for c in counts.columns.values if c not in metadata_cols]])\n",
    "input_ctrls = values[input_cols]\n",
    "beads_ctrls = values[beads_cols]\n",
    "\n",
    "print values.head() # this is what our sample data looks like now:"
   ]
  },
  {
   "cell_type": "code",
   "execution_count": null,
   "metadata": {
    "scrolled": true
   },
   "outputs": [],
   "source": [
    "sns.set(style='whitegrid', font_scale = 1.3, palette='Set3') ## Make all of our plots prettier\n",
    "def compare_replicates(columns=[], df=values, title=None, fname=None):\n",
    "    ''' Plot sanity checks for technical replicates. Input:\n",
    "        * a list of columns for pairwise comparisons (if not provided, does all pairwise comparisons)\n",
    "        * dataframe (default `values`)\n",
    "        * plot title (optional)\n",
    "        * output file name for plot (optional)'''\n",
    "    if len(columns) == 0:\n",
    "        replicates = df # all columns\n",
    "    elif len(columns) == 1:\n",
    "        return # only one column, no comparisons to make\n",
    "    else:\n",
    "        replicates = df[columns]\n",
    "    replicates.fillna(0, inplace=True)\n",
    "    \n",
    "    def plot_comparison(x,y, **kwargs):\n",
    "        ''' Scatter plot'''\n",
    "        scatter = plt.plot(x,y, 'o', alpha=0.4)\n",
    "        try:\n",
    "            r_2 = linregress(x,y)[2]\n",
    "            scatter[0].axes.text(0,0, 'R^2 = %.2f'%(r_2))\n",
    "        except:\n",
    "            pass\n",
    "        return scatter\n",
    "\n",
    "    g = sns.PairGrid(replicates, diag_sharey=False)\n",
    "    g.map_diag(sns.violinplot) # plot violinplots of each sample's distribution on the diagonal\n",
    "    g.map_offdiag(plot_comparison, ) # scatterplots to compare samples off the diagonal\n",
    "\n",
    "    if title:\n",
    "        g.fig.suptitle(title, va='bottom')\n",
    "    plt.tight_layout()\n",
    "    \n",
    "    if fname:\n",
    "        plt.savefig(out_path+'/figs/'+fname, bbox_inches='tight')\n",
    "        \n",
    "    plt.show()\n",
    "    plt.close()"
   ]
  },
  {
   "cell_type": "code",
   "execution_count": null,
   "metadata": {
    "scrolled": false
   },
   "outputs": [],
   "source": [
    "###### Compare read proportions across controls #####\n",
    "compare_replicates(input_cols + beads_cols, values, 'Input + Beads', 'ctrl_reps.png')"
   ]
  },
  {
   "cell_type": "code",
   "execution_count": null,
   "metadata": {
    "scrolled": false
   },
   "outputs": [],
   "source": [
    "######  Find technical replicates, plot direct comparisons #########\n",
    "technical_replicates = defaultdict(list) # {'sample': [sample_rep1, sample_rep2]}\n",
    "\n",
    "for c in sample_cols:\n",
    "    technical_replicates[c.split('_')[0]].append(c)\n",
    "\n",
    "technical_replicates = dict(technical_replicates) # Turn off defaultdict behavior\n",
    "\n",
    "for serum, tech_reps in technical_replicates.items():\n",
    "    compare_replicates(tech_reps, values, serum)"
   ]
  },
  {
   "cell_type": "code",
   "execution_count": null,
   "metadata": {
    "scrolled": false
   },
   "outputs": [],
   "source": [
    "## Does higher sera concentration == more reads? \n",
    "## Expects concentration annotated as sample_20ug_1, where 20ug is the concentration and 1 is the technical replicate number\n",
    "\n",
    "concentration_replicates = defaultdict(list) ## group individual replicates by sample and concentration\n",
    "for c in sample_cols: \n",
    "    concentration_replicates[c.rsplit('_',1)[0]].append(counts[c])\n",
    "    \n",
    "## Aggregate technical replicates at each concentration\n",
    "concentration_counts = { sample: pd.concat(replicates, axis=1).mean(axis=1) \n",
    "                        for sample, replicates in concentration_replicates.items()}\n",
    "\n",
    "## Now group by sample\n",
    "sample_concentrations = defaultdict(list)\n",
    "for sample_ug, mean_counts in concentration_counts.items():\n",
    "    sample, ug = sample_ug.rsplit('_', 1)\n",
    "    mean_counts.name = ug\n",
    "    sample_concentrations[sample].append(mean_counts)\n",
    "    \n",
    "sample_concentrations = { sample: pd.concat(replicates, axis=1) \n",
    "                         for sample, replicates in sample_concentrations.items()}\n",
    "\n",
    "for sample, readcounts in sample_concentrations.items():\n",
    "    readcounts = readcounts.melt(var_name='Concentration', value_name='Mean read counts')\n",
    "    ax = sns.violinplot(x='Concentration', y='Mean read counts', data=readcounts, cut=0)\n",
    "    ax.set_title(sample)\n",
    "    plt.yscale('log')\n",
    "    plt.show()"
   ]
  },
  {
   "cell_type": "code",
   "execution_count": null,
   "metadata": {},
   "outputs": [],
   "source": [
    "#######  Tidy up the metadata a bit  ########\n",
    "# Tidy start and end coordinates --> integers\n",
    "metadata['start'], metadata['end'] = metadata['Start_to_End_nt'].str.split('to', 1).str\n",
    "metadata['start'] = metadata['start'].map(lambda x: int(x))\n",
    "metadata['end'] = metadata['end'].map(lambda x: int(x.split('.')[0])) ## TODO\n",
    "metadata.drop('Start_to_End_nt', inplace=True, axis=1)\n",
    "\n",
    "# Tidy up virus and strain names\n",
    "def parse_strains(virusstrain):\n",
    "    # e.g., 'DENV3_BR-BID-V2403-2008.DENV3_Mozambique1985'\n",
    "    # The ONNV sequences overlap with the CHIKV sequences; for now, we'll omit it; this should be revisited. TODO\n",
    "\n",
    "    names = [s for s in virusstrain.split('.') if 'ONNV' not in s] # ['DENV3_BR-BID-V2403-2008', 'DENV3_Mozambique1985']\n",
    "    virus = [s.split('_', 1)[0] for s in names] # ['DENV3']\n",
    "\n",
    "    if len(set(virus)) != 1:\n",
    "        virus, strains = np.nan, np.nan\n",
    "\n",
    "    else:\n",
    "        virus = virus[0] # 'DENV3'\n",
    "        strains = [s.split(virus+'_', 1)[1].replace('-', '').replace('_', '').upper() for s in names if s != '']\n",
    "        # ['BRBIDV24032008', 'MOZAMBIQUE1985']\n",
    "\n",
    "    return pd.Series({'virus': virus, 'strains':strains})\n",
    "\n",
    "new_names = [parse_strains(v) for v in metadata['Virus_Strain']]\n",
    "metadata['virus'] = [n['virus'] for n in new_names]\n",
    "metadata['strains'] = [n['strains'] for n in new_names]\n",
    "metadata.rename(columns={'Peptide_sequence':'sequence'}, inplace=True)\n",
    "metadata.drop('Virus_Strain', axis=1, inplace=True)\n",
    "metadata.dropna(how='any', inplace=True, axis=(0, 1))"
   ]
  },
  {
   "cell_type": "code",
   "execution_count": null,
   "metadata": {
    "scrolled": true
   },
   "outputs": [],
   "source": [
    "#####   Write to file   #####\n",
    "values = values.join(metadata, how='inner')\n",
    "values.to_csv(out_path+'proportions.csv')\n",
    "\n",
    "counts = counts[sample_cols+beads_cols+input_cols].join(metadata, how='inner')\n",
    "counts.to_csv(out_path+'counts.csv')\n",
    "\n",
    "#### Put the names of any samples that should be dropped here\n",
    "master_drop_list = []\n",
    "if len(master_drop_list):\n",
    "    drop = open('./drop.txt', 'w')\n",
    "    for sample in master_drop_list:\n",
    "        drop.write(sample+'\\n')\n",
    "    drop.close()"
   ]
  },
  {
   "cell_type": "code",
   "execution_count": null,
   "metadata": {
    "scrolled": true
   },
   "outputs": [],
   "source": []
  }
 ],
 "metadata": {
  "kernelspec": {
   "display_name": "Python 2",
   "language": "python",
   "name": "python2"
  },
  "language_info": {
   "codemirror_mode": {
    "name": "ipython",
    "version": 2
   },
   "file_extension": ".py",
   "mimetype": "text/x-python",
   "name": "python",
   "nbconvert_exporter": "python",
   "pygments_lexer": "ipython2",
   "version": "2.7.10"
  }
 },
 "nbformat": 4,
 "nbformat_minor": 2
}
