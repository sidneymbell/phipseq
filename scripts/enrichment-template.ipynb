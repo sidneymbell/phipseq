{
 "cells": [
  {
   "cell_type": "code",
   "execution_count": 1,
   "metadata": {},
   "outputs": [],
   "source": [
    "import pandas as pd\n",
    "import numpy as np\n",
    "import argparse\n",
    "from collections import defaultdict\n",
    "from scipy.stats import linregress"
   ]
  },
  {
   "cell_type": "code",
   "execution_count": 18,
   "metadata": {},
   "outputs": [],
   "source": [
    "#####   Parse Input   #####\n",
    "out_path = './'\n",
    "drop_samples = [line.strip() for line in open('./drop.txt', 'r')] # which columns to drop based on results in qc.ipynb\n",
    "control_col = 'input' # which column to use as \"baseline\" when calculating enrichment scores\n",
    "\n",
    "# pd.DataFrame(index=oligoID, columns=sampleID, values=proportions of reads in each column assigned to each oligo)\n",
    "proportions = pd.read_csv('./proportions.csv', index_col=0)\n",
    "\n",
    "# drop bad replicates or superfluous samples as specified\n",
    "proportions.drop(drop_samples, inplace=True, axis=1, errors='ignore')\n",
    "\n",
    "# all columns with 'input' in the name\n",
    "input_cols = [c for c in proportions.columns.values if 'input' in c.lower()]\n",
    "# all columns with 'beads' in the name\n",
    "beads_cols = [c for c in proportions.columns.values if 'beads' in c.lower()]\n",
    "\n",
    "# nonnumerical columns\n",
    "metadata_cols = ['virus', 'start', 'end', 'sequence', 'start', 'end', 'strains']\n",
    "metadata = proportions[metadata_cols]\n",
    "\n",
    "# all non-metadata columns\n",
    "proportions = proportions[[c for c in proportions.columns.values if c not in metadata_cols]]"
   ]
  },
  {
   "cell_type": "code",
   "execution_count": 19,
   "metadata": {},
   "outputs": [
    {
     "name": "stdout",
     "output_type": "stream",
     "text": [
      "                DENV1_30dpi       EVU  DENV3_30dpi  DENV4_30dpi         H  \\\n",
      "id                                                                          \n",
      "1                  0.005368  0.000346     0.000350     0.000340  0.000225   \n",
      "100                0.000035  0.000006     0.000072     0.000122  0.000059   \n",
      "1001               0.000033  0.000023     0.000083     0.000131  0.000000   \n",
      "1002               0.000183  0.000719     0.000072     0.000102  0.000497   \n",
      "1008.1177.1346     0.000917  0.000662     0.001098     0.000690  0.002028   \n",
      "\n",
      "                   input         A         C         B         E    ...     \\\n",
      "id                                                                  ...      \n",
      "1               0.001005  0.000849  0.000299  0.001010  0.000953    ...      \n",
      "100             0.000230  0.000104  0.000195  0.000204  0.000086    ...      \n",
      "1001            0.000165  0.000144  0.000149  0.000137  0.000155    ...      \n",
      "1002            0.000107  0.000317  0.000186  0.000242  0.000391    ...      \n",
      "1008.1177.1346  0.002282  0.001856  0.001443  0.001388  0.001150    ...      \n",
      "\n",
      "                       M         L         O         N         Q         P  \\\n",
      "id                                                                           \n",
      "1               0.004275  0.000563  0.001156  0.000578  0.000664  0.000612   \n",
      "100             0.000292  0.000220  0.000027  0.000240  0.000236  0.000084   \n",
      "1001            0.000128  0.000053  0.000066  0.000156  0.000280  0.000148   \n",
      "1002            0.000077  0.000161  0.000326  0.000199  0.000465  0.000075   \n",
      "1008.1177.1346  0.001106  0.001697  0.001318  0.001382  0.002091  0.001736   \n",
      "\n",
      "                       R         U         T     beads  \n",
      "id                                                      \n",
      "1               0.000681  0.000633  0.000804  0.000487  \n",
      "100             0.000219  0.000029  0.000007  0.000266  \n",
      "1001            0.000205  0.000133  0.000299  0.000243  \n",
      "1002            0.000142  0.000092  0.000360  0.000229  \n",
      "1008.1177.1346  0.001898  0.000933  0.001838  0.001561  \n",
      "\n",
      "[5 rows x 26 columns]\n"
     ]
    }
   ],
   "source": [
    "#####   Aggregate replicates    #####\n",
    "def aggregate(reps, name, df=proportions):\n",
    "    '''\n",
    "    Average read proportion values across replicates.\n",
    "    Input: replicates, name for new column, dataframe (proportions as default)\n",
    "    Modifies df in place: drops non-aggregated columns in 'replicates', adds new column with averaged values\n",
    "    '''\n",
    "    if len(reps) == 1: # nothing to aggregate\n",
    "        df[name] = df[reps[0]]\n",
    "    else:\n",
    "        df[name] = df[reps].mean(axis=1) # mean of each row --> new column of aggregated values\n",
    "    df.drop(reps, inplace=True, axis=1, errors='ignore') # drop original columns (yes, the axis designator switches between these two methods which is incredibly annoying but is correct I promise)\n",
    "\n",
    "technical_replicates = defaultdict(list)\n",
    "# {'NHP-3-2ng': ['NHP-3-2ng-1', 'NHP-3-2ng-2']}\n",
    "\n",
    "for serum in proportions.columns.values: # Find replicates like ['NHP-3-1', 'NHP-3-2']\n",
    "    if serum in beads_cols:\n",
    "        name = 'beads'\n",
    "    elif serum in input_cols:\n",
    "        name = 'input'\n",
    "    else:\n",
    "        name = serum.rsplit('_', 2)[0]\n",
    "    technical_replicates[name].append(serum)\n",
    "\n",
    "for serum, reps in technical_replicates.items():\n",
    "    aggregate(proportions, reps, serum)\n",
    "# now data looks like pd.DataFrame(columns=['NHP-1', 'input', 'beads', 'NHP-2', ...])\n",
    "print proportions.head()"
   ]
  },
  {
   "cell_type": "code",
   "execution_count": null,
   "metadata": {},
   "outputs": [],
   "source": [
    "#####   Convert all values to fold enrichment over control  #####\n",
    "mean_control_val = proportions[control_col].mean() # avoid dividing by 0\n",
    "filled_control_col = proportions[control_col].replace(0., mean_control_val) # replace 0 in control col with mean value of control col\n",
    "enrichment = proportions.divide(filled_control_col, axis=0) # divide each column by the control column\n",
    "\n",
    "annotated_enrichment = enrichment.join(metadata) # reattach the metadata\n",
    "print annotated_enrichment.head()\n",
    "annotated_enrichment.to_csv(out_path+'enrichment.csv') # write to file"
   ]
  },
  {
   "cell_type": "code",
   "execution_count": null,
   "metadata": {},
   "outputs": [],
   "source": []
  }
 ],
 "metadata": {
  "kernelspec": {
   "display_name": "Python 2",
   "language": "python",
   "name": "python2"
  },
  "language_info": {
   "codemirror_mode": {
    "name": "ipython",
    "version": 2
   },
   "file_extension": ".py",
   "mimetype": "text/x-python",
   "name": "python",
   "nbconvert_exporter": "python",
   "pygments_lexer": "ipython2",
   "version": "2.7.10"
  }
 },
 "nbformat": 4,
 "nbformat_minor": 2
}
